{
  "nbformat": 4,
  "nbformat_minor": 0,
  "metadata": {
    "colab": {
      "name": "breast_cancer_classification.ipynb",
      "provenance": []
    },
    "kernelspec": {
      "name": "python3",
      "display_name": "Python 3"
    },
    "language_info": {
      "name": "python"
    }
  },
  "cells": [
    {
      "cell_type": "markdown",
      "source": [
        "## Importing libraries\n"
      ],
      "metadata": {
        "id": "hdwzjW-oxPYF"
      }
    },
    {
      "cell_type": "code",
      "source": [
        "import pandas as pd\n",
        "import numpy as np\n",
        "import matplotlib.pyplot as plt"
      ],
      "metadata": {
        "id": "UaRyh2DSxYMd"
      },
      "execution_count": 2,
      "outputs": []
    },
    {
      "cell_type": "markdown",
      "source": [
        "## importing dataset"
      ],
      "metadata": {
        "id": "4mi4lKtrxaBr"
      }
    },
    {
      "cell_type": "code",
      "source": [
        "dataset = pd.read_csv('breast-cancer-wisconsin.csv')\n",
        "\n",
        "dataset = dataset.drop(dataset[dataset.iloc[:, 6].values == '?'].index)\n",
        "\n",
        "X = dataset.iloc[:, 1:-1].values\n",
        "y = dataset.iloc[:, -1].values\n",
        "print(X)\n",
        "print(y)"
      ],
      "metadata": {
        "id": "XetzUH19xfEF",
        "colab": {
          "base_uri": "https://localhost:8080/"
        },
        "outputId": "f4f0691b-0713-4cbf-ef99-f7771da20820"
      },
      "execution_count": 6,
      "outputs": [
        {
          "output_type": "stream",
          "name": "stdout",
          "text": [
            "[[5 4 4 ... 3 2 1]\n",
            " [3 1 1 ... 3 1 1]\n",
            " [6 8 8 ... 3 7 1]\n",
            " ...\n",
            " [5 10 10 ... 8 10 2]\n",
            " [4 8 6 ... 10 6 1]\n",
            " [4 8 8 ... 10 4 1]]\n",
            "[2 2 2 2 4 2 2 2 2 2 2 4 2 4 4 2 2 4 2 4 4 2 2 4 2 2 2 2 2 2 4 2 2 2 4 2 4\n",
            " 4 4 4 4 4 2 4 2 2 4 4 4 4 4 4 4 4 4 4 4 4 2 4 4 2 4 2 4 4 2 2 4 2 4 4 2 2\n",
            " 2 2 2 2 2 2 2 4 4 4 4 2 2 2 2 2 2 2 2 2 2 4 4 4 4 2 4 4 4 4 4 2 4 2 4 4 4\n",
            " 2 2 2 4 2 2 2 2 4 4 4 2 4 2 4 2 2 2 4 2 2 2 2 2 2 2 2 4 2 2 4 2 2 4 2 4 4\n",
            " 2 2 4 2 2 4 4 2 2 2 2 4 4 2 2 2 2 2 4 4 4 2 4 2 4 2 2 2 4 4 2 4 4 4 2 4 4\n",
            " 2 2 2 2 2 2 2 2 4 4 2 2 2 4 4 2 2 2 4 4 2 4 4 4 2 2 4 2 2 4 4 4 4 2 4 4 2\n",
            " 4 4 4 2 4 2 4 4 4 4 2 2 2 2 2 2 4 4 2 2 4 2 4 4 4 2 2 2 2 4 4 4 4 4 2 4 4\n",
            " 4 2 4 2 4 4 2 2 2 2 4 2 2 4 4 4 4 4 2 4 4 2 2 4 4 2 2 4 4 2 4 2 4 4 2 2 4\n",
            " 2 2 2 4 2 2 4 4 2 2 4 2 4 2 2 4 2 4 4 4 2 2 4 4 2 4 2 2 4 4 2 2 2 4 2 2 2\n",
            " 4 4 2 2 2 4 2 2 4 4 4 4 4 4 2 2 2 2 4 4 2 2 2 2 2 2 2 2 2 2 2 2 2 4 2 2 2\n",
            " 2 4 2 2 2 2 4 2 2 2 2 2 2 2 2 4 2 2 2 2 2 2 2 2 2 2 4 2 4 2 4 2 2 2 2 4 2\n",
            " 2 2 4 2 4 2 2 2 2 2 2 2 4 4 2 2 2 4 2 2 2 2 2 2 2 2 4 2 2 2 4 2 4 4 4 2 2\n",
            " 2 2 2 2 2 4 4 4 2 2 2 2 2 2 2 2 2 2 2 4 2 2 4 4 2 2 2 4 4 4 2 4 2 4 2 2 2\n",
            " 2 2 2 2 2 2 2 2 2 4 2 2 2 2 2 2 2 4 4 2 2 2 4 2 2 4 4 2 2 2 2 2 2 4 2 2 2\n",
            " 2 2 2 2 2 2 2 2 2 2 2 2 4 2 2 4 2 2 2 2 2 2 2 2 2 2 2 2 2 2 2 4 2 2 4 4 4\n",
            " 4 2 2 4 2 2 2 2 2 2 4 4 2 2 2 4 2 4 2 4 4 4 2 4 2 2 2 2 2 2 2 2 4 4 4 2 2\n",
            " 4 2 4 4 4 2 2 2 2 2 2 2 2 2 2 2 2 4 2 2 2 2 2 2 4 2 2 4 2 2 2 2 2 2 2 2 2\n",
            " 2 2 4 2 2 2 2 2 2 2 2 2 4 2 2 2 2 2 2 2 2 2 4 4 4 2 2 2 2 2 2 2 2 2 4 4 2\n",
            " 2 2 2 2 2 2 2 2 4 2 2 2 2 4 4 4]\n"
          ]
        }
      ]
    },
    {
      "cell_type": "markdown",
      "source": [
        "## Splitting the datset into training and test"
      ],
      "metadata": {
        "id": "5RQMSm8sxfut"
      }
    },
    {
      "cell_type": "code",
      "source": [
        "from sklearn.model_selection import train_test_split\n",
        "X_train, X_test, y_train, y_test = train_test_split(X, y, test_size = 0.25, random_state = 0)\n",
        "print(X_train)\n",
        "print(X_test)\n",
        "print(y_train)\n",
        "print(y_test)"
      ],
      "metadata": {
        "id": "K0Suk66cxmiV",
        "colab": {
          "base_uri": "https://localhost:8080/"
        },
        "outputId": "7dcd7abe-319d-42d4-b648-0c49bef4087d"
      },
      "execution_count": 7,
      "outputs": [
        {
          "output_type": "stream",
          "name": "stdout",
          "text": [
            "[[3 1 1 ... 2 1 1]\n",
            " [1 1 1 ... 3 2 1]\n",
            " [5 1 1 ... 2 2 1]\n",
            " ...\n",
            " [3 1 1 ... 2 1 1]\n",
            " [1 2 2 ... 1 1 1]\n",
            " [5 1 2 ... 3 1 1]]\n",
            "[[8 3 3 ... 3 2 1]\n",
            " [1 1 1 ... 1 1 1]\n",
            " [6 8 7 ... 8 9 1]\n",
            " ...\n",
            " [5 2 2 ... 2 2 1]\n",
            " [4 1 1 ... 2 1 1]\n",
            " [1 1 1 ... 3 1 1]]\n",
            "[2 2 2 4 2 2 2 2 2 4 2 2 4 2 2 4 2 2 2 2 2 2 4 2 2 2 2 4 2 2 2 4 4 2 4 4 2\n",
            " 4 2 4 2 2 4 4 2 4 4 2 2 4 2 4 2 2 2 2 4 4 4 2 2 2 4 2 4 4 2 4 2 2 2 4 4 4\n",
            " 2 4 2 2 4 4 2 2 4 4 2 2 2 2 4 2 4 4 2 2 2 4 2 2 4 4 2 2 4 4 2 2 4 2 2 2 2\n",
            " 2 2 2 2 2 2 4 2 2 4 2 4 2 2 2 4 4 2 2 2 2 2 4 2 2 2 2 2 2 2 4 4 4 4 2 4 2\n",
            " 2 2 2 4 4 2 2 4 4 2 4 2 2 4 4 2 2 2 2 2 2 2 2 4 2 4 2 2 2 2 4 2 4 2 2 4 4\n",
            " 4 2 4 4 4 2 4 2 4 2 4 2 4 2 4 2 2 2 2 2 4 4 2 2 2 2 4 2 2 2 4 4 2 4 2 4 2\n",
            " 4 2 4 2 4 2 4 2 2 2 2 2 2 2 4 2 2 2 2 4 2 4 4 2 4 2 2 2 4 2 2 2 4 2 2 4 4\n",
            " 4 2 2 4 2 4 2 2 2 2 2 2 2 2 4 4 4 2 2 4 4 4 2 4 2 4 2 2 4 2 4 2 2 4 2 2 2\n",
            " 2 2 4 2 2 2 2 2 2 2 4 2 2 2 2 2 2 2 2 4 2 2 4 2 2 2 2 2 4 2 2 2 4 2 2 2 2\n",
            " 2 4 2 2 2 4 4 4 4 4 2 2 4 2 2 4 4 2 2 2 2 4 4 2 2 4 4 2 4 2 2 2 4 2 2 4 4\n",
            " 4 2 2 2 2 4 2 2 2 2 2 2 2 4 2 4 2 4 2 2 4 4 2 2 2 4 2 2 4 4 2 2 4 2 2 2 2\n",
            " 2 4 4 2 4 2 4 4 2 2 2 4 4 4 2 2 4 2 4 2 2 2 2 2 4 2 4 2 2 4 2 2 2 2 2 2 2\n",
            " 2 4 2 4 4 4 4 4 2 4 2 4 2 4 4 4 4 4 4 2 2 2 2 2 4 2 2 4 2 2 2 4 2 2 2 4 2\n",
            " 2 2 2 2 2 4 4 2 2 2 2 2 2 2 2 2 2 2 4 4 2 4 4 2 2 2 2 2 2 2]\n",
            "[2 2 4 2 2 4 2 2 2 4 4 2 4 2 2 4 4 4 2 4 4 2 2 2 4 2 2 2 2 2 2 2 4 2 2 2 2\n",
            " 4 2 2 2 2 2 4 2 2 4 4 2 4 2 2 4 2 2 2 2 2 2 4 2 2 2 2 2 2 2 2 4 4 2 2 2 2\n",
            " 2 4 4 2 2 4 2 2 4 2 2 4 2 2 4 2 2 2 2 4 4 4 2 4 4 2 2 4 4 4 4 2 2 4 2 2 2\n",
            " 2 2 4 2 2 2 4 2 2 2 4 2 4 4 4 2 2 2 4 2 2 2 2 4 2 2 2 2 4 2 4 4 4 2 4 4 2\n",
            " 4 2 4 4 4 4 2 2 2 2 2 4 2 4 2 2 2 2 2 4 2 2 2]\n"
          ]
        }
      ]
    },
    {
      "cell_type": "markdown",
      "source": [
        "##Training the model in training set"
      ],
      "metadata": {
        "id": "auNVziuDxmxT"
      }
    },
    {
      "cell_type": "code",
      "source": [
        "from sklearn.linear_model import LogisticRegression\n",
        "classifier = LogisticRegression(random_state = 0)\n",
        "classifier.fit(X_train, y_train)"
      ],
      "metadata": {
        "id": "Or4NcdLCx2cv",
        "colab": {
          "base_uri": "https://localhost:8080/"
        },
        "outputId": "a5b79340-3fe1-4292-ad8a-691fcdc5fc06"
      },
      "execution_count": 8,
      "outputs": [
        {
          "output_type": "execute_result",
          "data": {
            "text/plain": [
              "LogisticRegression(random_state=0)"
            ]
          },
          "metadata": {},
          "execution_count": 8
        }
      ]
    },
    {
      "cell_type": "markdown",
      "source": [
        "## Predicting the test set"
      ],
      "metadata": {
        "id": "DNpcOZngx2r8"
      }
    },
    {
      "cell_type": "code",
      "source": [
        "y_pred = classifier.predict(X_test)\n",
        "print(np.concatenate((y_pred.reshape(len(y_pred),1), y_test.reshape(len(y_test),1)),1))"
      ],
      "metadata": {
        "id": "eGIy_wqtx9zl",
        "colab": {
          "base_uri": "https://localhost:8080/"
        },
        "outputId": "4e12d269-3fc4-4161-c076-d83b8f26f897"
      },
      "execution_count": 9,
      "outputs": [
        {
          "output_type": "stream",
          "name": "stdout",
          "text": [
            "[[2 2]\n",
            " [2 2]\n",
            " [4 4]\n",
            " [2 2]\n",
            " [2 2]\n",
            " [4 4]\n",
            " [2 2]\n",
            " [2 2]\n",
            " [2 2]\n",
            " [4 4]\n",
            " [4 4]\n",
            " [2 2]\n",
            " [4 4]\n",
            " [2 2]\n",
            " [2 2]\n",
            " [4 4]\n",
            " [4 4]\n",
            " [4 4]\n",
            " [2 2]\n",
            " [4 4]\n",
            " [4 4]\n",
            " [2 2]\n",
            " [2 2]\n",
            " [2 2]\n",
            " [4 4]\n",
            " [2 2]\n",
            " [2 2]\n",
            " [2 2]\n",
            " [2 2]\n",
            " [2 2]\n",
            " [2 2]\n",
            " [2 2]\n",
            " [4 4]\n",
            " [4 2]\n",
            " [2 2]\n",
            " [2 2]\n",
            " [2 2]\n",
            " [4 4]\n",
            " [2 2]\n",
            " [2 2]\n",
            " [2 2]\n",
            " [2 2]\n",
            " [2 2]\n",
            " [4 4]\n",
            " [2 2]\n",
            " [2 2]\n",
            " [4 4]\n",
            " [4 4]\n",
            " [2 2]\n",
            " [4 4]\n",
            " [2 2]\n",
            " [2 2]\n",
            " [4 4]\n",
            " [2 2]\n",
            " [2 2]\n",
            " [2 2]\n",
            " [4 2]\n",
            " [2 2]\n",
            " [2 2]\n",
            " [4 4]\n",
            " [2 2]\n",
            " [2 2]\n",
            " [2 2]\n",
            " [2 2]\n",
            " [2 2]\n",
            " [2 2]\n",
            " [2 2]\n",
            " [2 2]\n",
            " [4 4]\n",
            " [2 4]\n",
            " [2 2]\n",
            " [2 2]\n",
            " [2 2]\n",
            " [2 2]\n",
            " [2 2]\n",
            " [4 4]\n",
            " [4 4]\n",
            " [2 2]\n",
            " [2 2]\n",
            " [4 4]\n",
            " [4 2]\n",
            " [2 2]\n",
            " [4 4]\n",
            " [2 2]\n",
            " [2 2]\n",
            " [4 4]\n",
            " [2 2]\n",
            " [2 2]\n",
            " [4 4]\n",
            " [2 2]\n",
            " [2 2]\n",
            " [2 2]\n",
            " [2 2]\n",
            " [4 4]\n",
            " [4 4]\n",
            " [4 4]\n",
            " [2 2]\n",
            " [2 4]\n",
            " [4 4]\n",
            " [2 2]\n",
            " [2 2]\n",
            " [4 4]\n",
            " [4 4]\n",
            " [4 4]\n",
            " [4 4]\n",
            " [2 2]\n",
            " [2 2]\n",
            " [4 4]\n",
            " [2 2]\n",
            " [2 2]\n",
            " [2 2]\n",
            " [2 2]\n",
            " [2 2]\n",
            " [4 4]\n",
            " [2 2]\n",
            " [2 2]\n",
            " [2 2]\n",
            " [4 4]\n",
            " [2 2]\n",
            " [2 2]\n",
            " [2 2]\n",
            " [4 4]\n",
            " [2 2]\n",
            " [4 4]\n",
            " [4 4]\n",
            " [4 4]\n",
            " [2 2]\n",
            " [2 2]\n",
            " [2 2]\n",
            " [4 4]\n",
            " [2 2]\n",
            " [2 2]\n",
            " [2 2]\n",
            " [2 2]\n",
            " [4 4]\n",
            " [2 2]\n",
            " [2 2]\n",
            " [2 2]\n",
            " [2 2]\n",
            " [4 4]\n",
            " [2 2]\n",
            " [4 4]\n",
            " [4 4]\n",
            " [4 4]\n",
            " [2 2]\n",
            " [4 4]\n",
            " [4 4]\n",
            " [2 2]\n",
            " [4 4]\n",
            " [2 2]\n",
            " [4 4]\n",
            " [4 4]\n",
            " [4 4]\n",
            " [4 4]\n",
            " [2 2]\n",
            " [2 2]\n",
            " [2 2]\n",
            " [2 2]\n",
            " [2 2]\n",
            " [4 4]\n",
            " [2 2]\n",
            " [4 4]\n",
            " [2 2]\n",
            " [2 2]\n",
            " [2 2]\n",
            " [2 2]\n",
            " [2 2]\n",
            " [4 4]\n",
            " [2 2]\n",
            " [2 2]\n",
            " [2 2]]\n"
          ]
        }
      ]
    },
    {
      "cell_type": "markdown",
      "source": [
        "## Confusion Matrix"
      ],
      "metadata": {
        "id": "R-N9f67qx-k2"
      }
    },
    {
      "cell_type": "code",
      "source": [
        "from sklearn.metrics import confusion_matrix, accuracy_score\n",
        "cm = confusion_matrix(y_test, y_pred)\n",
        "print(cm)\n",
        "accuracy_score(y_test, y_pred)"
      ],
      "metadata": {
        "id": "AaN_nC0pyDXn",
        "colab": {
          "base_uri": "https://localhost:8080/"
        },
        "outputId": "f8cfac3c-84b0-4c30-ee28-ef34fe54af2b"
      },
      "execution_count": 10,
      "outputs": [
        {
          "output_type": "stream",
          "name": "stdout",
          "text": [
            "[[109   3]\n",
            " [  2  57]]\n"
          ]
        },
        {
          "output_type": "execute_result",
          "data": {
            "text/plain": [
              "0.9707602339181286"
            ]
          },
          "metadata": {},
          "execution_count": 10
        }
      ]
    },
    {
      "cell_type": "markdown",
      "source": [
        "## K-fold"
      ],
      "metadata": {
        "id": "5Z4KhifCyDdm"
      }
    },
    {
      "cell_type": "code",
      "source": [
        "from sklearn.model_selection import cross_val_score\n",
        "accuracies = cross_val_score(estimator = classifier, X = X_train, y = y_train, cv = 10)\n",
        "print(\"Accuracy: {:.2f} %\".format(accuracies.mean()*100))\n",
        "print(\"Standard Deviation: {:.2f} %\".format(accuracies.std()*100))"
      ],
      "metadata": {
        "colab": {
          "base_uri": "https://localhost:8080/"
        },
        "id": "_3_A0WFUlmhf",
        "outputId": "634e8b05-1cb7-4b8a-aa12-bdf3a702772d"
      },
      "execution_count": 11,
      "outputs": [
        {
          "output_type": "stream",
          "name": "stdout",
          "text": [
            "Accuracy: 96.67 %\n",
            "Standard Deviation: 1.97 %\n"
          ]
        }
      ]
    },
    {
      "cell_type": "markdown",
      "source": [
        ""
      ],
      "metadata": {
        "id": "TrYx1KsWyChf"
      }
    }
  ]
}